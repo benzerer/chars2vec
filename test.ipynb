{
  "cells": [
    {
      "cell_type": "markdown",
      "metadata": {
        "id": "view-in-github",
        "colab_type": "text"
      },
      "source": [
        "<a href=\"https://colab.research.google.com/github/benzerer/chars2vec/blob/master/test.ipynb\" target=\"_parent\"><img src=\"https://colab.research.google.com/assets/colab-badge.svg\" alt=\"Open In Colab\"/></a>"
      ]
    },
    {
      "cell_type": "code",
      "source": [
        "# uncomment เมื่อใช้ครั้งแรก (โหลด update chars2vec จาก git เลาเอง เนื่องจากต้นฉบับมีบั๊ก เลาแก้บั๊กให้แล้ว)\n",
        "# !wget https://github.com/Phonbopit/sarabun-webfont/raw/master/fonts/thsarabunnew-webfont.ttf\n",
        "# !wget https://github.com/benzerer/chars2vec/archive/refs/heads/master.zip\n",
        "# !unzip master.zip\n",
        "# !cp -r chars2vec\\-master/chars2vec ."
      ],
      "metadata": {
        "id": "upcT5I1oD9Bu"
      },
      "execution_count": 1,
      "outputs": []
    },
    {
      "cell_type": "code",
      "source": [
        "# อันนี้คืออะไร ใช้ทำอะไรได้?? ดูนี่ --> https://medium.com/hackernoon/chars2vec-character-based-language-model-for-handling-real-world-texts-with-spelling-errors-and-a3e4053a147d"
      ],
      "metadata": {
        "id": "GOy8aWJfYHbo"
      },
      "execution_count": null,
      "outputs": []
    },
    {
      "cell_type": "code",
      "source": [
        "import chars2vec\n",
        "import sklearn.decomposition\n",
        "import matplotlib as mpl\n",
        "import matplotlib.pyplot as plt\n",
        "\n",
        "# set mathtext font fallback (อันนี้เยอะกว่าปกติหน่อย)\n",
        "mpl.font_manager.fontManager.addfont('thsarabunnew-webfont.ttf')\n",
        "mpl.rc('font', family='TH Sarabun New')\n",
        "mpl.rc('mathtext', fontset='custom')\n",
        "mpl.rc('mathtext', bf='TH Sarabun New')\n",
        "mpl.rc('mathtext', cal='TH Sarabun New')\n",
        "mpl.rc('mathtext', it='TH Sarabun New')\n",
        "mpl.rc('mathtext', rm='TH Sarabun New')\n",
        "mpl.rc('mathtext', sf='TH Sarabun New')\n",
        "mpl.rc('mathtext', tt='TH Sarabun New')"
      ],
      "metadata": {
        "id": "mY-AlN9AA3qU"
      },
      "execution_count": 2,
      "outputs": []
    },
    {
      "cell_type": "code",
      "source": [
        "# จำนวน dimension ของ vector\n",
        "dim = 100\n",
        "\n",
        "# ใช้ save / load model\n",
        "path = '/content/mod'\n",
        "\n",
        "# ทดสอบ pair\n",
        "X_train = [('โอนเงิน', 'กล่อง'),\n",
        "           ('กล่อง A', 'กล่อง B'),\n",
        "           ('กล่อง A', 'A'),\n",
        "           ('กล่องขนาด A', 'กล่อง A'),\n",
        "           ('กล่อง', 'นมกล่อง'),\n",
        "           ('กล้อง', 'กล่อง'),\n",
        "           ('ขนม', 'กล่อง')\n",
        "          ]\n",
        "\n",
        "# คำที่เป็นสิ่งเดียวกัน ให้คะแนน 1 ต่างกันให้ 0\n",
        "y_train = [0, 1, 1, 1, 0, 0, 0]\n",
        "\n",
        "# Bag of characters\n",
        "model_chars = list(set(\n",
        "    char\n",
        "    for tup in X_train\n",
        "    for word in tup\n",
        "    for char in word\n",
        "    ))\n",
        "\n",
        "# Train & save\n",
        "my_c2v_model = (\n",
        "    chars2vec\n",
        "    .train_model(\n",
        "        dim,\n",
        "        X_train,\n",
        "        y_train,\n",
        "        model_chars\n",
        "        ))\n",
        "\n",
        "chars2vec.save_model(my_c2v_model, path)\n",
        "c2v_model = chars2vec.load_model(path)\n",
        "\n",
        "# Try to create embeddings\n",
        "words = [word for tup in X_train for word in tup]\n",
        "word_embeddings = c2v_model.vectorize_words(words)\n",
        "\n",
        "# PCA เนื่องจากมี 100 dimension\n",
        "projection_2d = (\n",
        "    sklearn\n",
        "    .decomposition\n",
        "    .PCA(n_components=2)\n",
        "    .fit_transform(word_embeddings)\n",
        "    )"
      ],
      "metadata": {
        "id": "GQfaDReQBF8d",
        "outputId": "383ca997-7284-43d6-8876-69652cbc8f7e",
        "colab": {
          "base_uri": "https://localhost:8080/"
        }
      },
      "execution_count": 3,
      "outputs": [
        {
          "output_type": "stream",
          "name": "stdout",
          "text": [
            "Epoch 1/200\n",
            "1/1 [==============================] - 17s 17s/step - loss: 0.5000 - val_loss: 0.5027\n",
            "Epoch 2/200\n",
            "1/1 [==============================] - 0s 77ms/step - loss: 0.4997 - val_loss: 0.5031\n",
            "Epoch 3/200\n",
            "1/1 [==============================] - 0s 142ms/step - loss: 0.4993 - val_loss: 0.5036\n",
            "Epoch 4/200\n",
            "1/1 [==============================] - 0s 123ms/step - loss: 0.4988 - val_loss: 0.5044\n",
            "Epoch 5/200\n",
            "1/1 [==============================] - 0s 81ms/step - loss: 0.4982 - val_loss: 0.5053\n",
            "Epoch 6/200\n",
            "1/1 [==============================] - 0s 51ms/step - loss: 0.4974 - val_loss: 0.5066\n",
            "Epoch 7/200\n",
            "1/1 [==============================] - 0s 61ms/step - loss: 0.4964 - val_loss: 0.5082\n",
            "Epoch 8/200\n",
            "1/1 [==============================] - 0s 62ms/step - loss: 0.4949 - val_loss: 0.5102\n",
            "Epoch 9/200\n",
            "1/1 [==============================] - 0s 122ms/step - loss: 0.4927 - val_loss: 0.5127\n",
            "Epoch 10/200\n",
            "1/1 [==============================] - 0s 155ms/step - loss: 0.4897 - val_loss: 0.5160\n",
            "Epoch 11/200\n",
            "1/1 [==============================] - 0s 66ms/step - loss: 0.4852 - val_loss: 0.5201\n",
            "1/1 [==============================] - 2s 2s/step\n"
          ]
        }
      ]
    },
    {
      "cell_type": "code",
      "source": [
        "# ลอง Plot ดู\n",
        "f = plt.figure(figsize=(8, 6))\n",
        "\n",
        "for idx, ctx in enumerate(projection_2d):\n",
        "    plt.scatter(ctx[0], ctx[1],\n",
        "                marker=('$' + words[idx] + '$'),\n",
        "                s=500 * len(words[idx]), \n",
        "                label=idx)\n",
        "\n",
        "plt.show()"
      ],
      "metadata": {
        "id": "0J8b9UqbXh60",
        "outputId": "230a16e1-1933-47e2-e4d9-f2da9d597cad",
        "colab": {
          "base_uri": "https://localhost:8080/",
          "height": 373
        }
      },
      "execution_count": 4,
      "outputs": [
        {
          "output_type": "display_data",
          "data": {
            "text/plain": [
              "<Figure size 576x432 with 1 Axes>"
            ],
            "image/png": "[encoded data removed]"
          },
          "metadata": {
            "needs_background": "light"
          }
        }
      ]
    }
  ],
  "metadata": {
    "colab": {
      "name": "scratchpad",
      "provenance": [],
      "include_colab_link": true
    },
    "kernelspec": {
      "display_name": "Python 3",
      "name": "python3"
    }
  },
  "nbformat": 4,
  "nbformat_minor": 0
}